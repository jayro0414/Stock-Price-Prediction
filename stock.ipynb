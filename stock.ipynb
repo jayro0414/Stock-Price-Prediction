{
  "nbformat": 4,
  "nbformat_minor": 0,
  "metadata": {
    "colab": {
      "name": "Untitled2.ipynb",
      "provenance": [],
      "authorship_tag": "ABX9TyPSnOHElvs13tH/wSYRh3gD",
      "include_colab_link": true
    },
    "kernelspec": {
      "name": "python3",
      "display_name": "Python 3"
    },
    "language_info": {
      "name": "python"
    }
  },
  "cells": [
    {
      "cell_type": "markdown",
      "metadata": {
        "id": "view-in-github",
        "colab_type": "text"
      },
      "source": [
        "<a href=\"https://colab.research.google.com/github/jayro0414/Stock-Price-Prediction/blob/main/stock.ipynb\" target=\"_parent\"><img src=\"https://colab.research.google.com/assets/colab-badge.svg\" alt=\"Open In Colab\"/></a>"
      ]
    },
    {
      "cell_type": "code",
      "metadata": {
        "id": "C704XHfaex0u"
      },
      "source": [
        "import math\n",
        "import pandas_datareader as web\n",
        "import numpy as np\n",
        "import pandas as pd\n",
        "from sklearn.preprocessing import MinMaxScaler\n",
        "from keras.models import Sequential\n",
        "from keras.layers import Dense, LSTM\n",
        "import matplotlib.pyplot as plt\n",
        "plt.style.use('fivethirtyeight')"
      ],
      "execution_count": 92,
      "outputs": []
    },
    {
      "cell_type": "code",
      "metadata": {
        "colab": {
          "base_uri": "https://localhost:8080/",
          "height": 450
        },
        "id": "m1E1sOPofMq6",
        "outputId": "6d2cdca9-6dc0-48ba-fe5b-506d3c912694"
      },
      "source": [
        "df = web.DataReader('AApl', data_source='yahoo', start='2012-04-01', end='2021-04-01')\n",
        "\n",
        "df"
      ],
      "execution_count": 93,
      "outputs": [
        {
          "output_type": "execute_result",
          "data": {
            "text/html": [
              "<div>\n",
              "<style scoped>\n",
              "    .dataframe tbody tr th:only-of-type {\n",
              "        vertical-align: middle;\n",
              "    }\n",
              "\n",
              "    .dataframe tbody tr th {\n",
              "        vertical-align: top;\n",
              "    }\n",
              "\n",
              "    .dataframe thead th {\n",
              "        text-align: right;\n",
              "    }\n",
              "</style>\n",
              "<table border=\"1\" class=\"dataframe\">\n",
              "  <thead>\n",
              "    <tr style=\"text-align: right;\">\n",
              "      <th></th>\n",
              "      <th>High</th>\n",
              "      <th>Low</th>\n",
              "      <th>Open</th>\n",
              "      <th>Close</th>\n",
              "      <th>Volume</th>\n",
              "      <th>Adj Close</th>\n",
              "    </tr>\n",
              "    <tr>\n",
              "      <th>Date</th>\n",
              "      <th></th>\n",
              "      <th></th>\n",
              "      <th></th>\n",
              "      <th></th>\n",
              "      <th></th>\n",
              "      <th></th>\n",
              "    </tr>\n",
              "  </thead>\n",
              "  <tbody>\n",
              "    <tr>\n",
              "      <th>2012-04-02</th>\n",
              "      <td>22.098928</td>\n",
              "      <td>21.442142</td>\n",
              "      <td>21.493929</td>\n",
              "      <td>22.093929</td>\n",
              "      <td>598351600.0</td>\n",
              "      <td>19.030903</td>\n",
              "    </tr>\n",
              "    <tr>\n",
              "      <th>2012-04-03</th>\n",
              "      <td>22.578930</td>\n",
              "      <td>22.232500</td>\n",
              "      <td>22.403570</td>\n",
              "      <td>22.475714</td>\n",
              "      <td>834559600.0</td>\n",
              "      <td>19.359755</td>\n",
              "    </tr>\n",
              "    <tr>\n",
              "      <th>2012-04-04</th>\n",
              "      <td>22.352142</td>\n",
              "      <td>22.035713</td>\n",
              "      <td>22.298214</td>\n",
              "      <td>22.296785</td>\n",
              "      <td>572980800.0</td>\n",
              "      <td>19.205635</td>\n",
              "    </tr>\n",
              "    <tr>\n",
              "      <th>2012-04-05</th>\n",
              "      <td>22.666430</td>\n",
              "      <td>22.264286</td>\n",
              "      <td>22.392143</td>\n",
              "      <td>22.631430</td>\n",
              "      <td>641298000.0</td>\n",
              "      <td>19.493883</td>\n",
              "    </tr>\n",
              "    <tr>\n",
              "      <th>2012-04-09</th>\n",
              "      <td>22.851429</td>\n",
              "      <td>22.332144</td>\n",
              "      <td>22.361786</td>\n",
              "      <td>22.722500</td>\n",
              "      <td>597536800.0</td>\n",
              "      <td>19.572329</td>\n",
              "    </tr>\n",
              "    <tr>\n",
              "      <th>...</th>\n",
              "      <td>...</td>\n",
              "      <td>...</td>\n",
              "      <td>...</td>\n",
              "      <td>...</td>\n",
              "      <td>...</td>\n",
              "      <td>...</td>\n",
              "    </tr>\n",
              "    <tr>\n",
              "      <th>2021-03-26</th>\n",
              "      <td>121.480003</td>\n",
              "      <td>118.919998</td>\n",
              "      <td>120.349998</td>\n",
              "      <td>121.209999</td>\n",
              "      <td>94071200.0</td>\n",
              "      <td>121.209999</td>\n",
              "    </tr>\n",
              "    <tr>\n",
              "      <th>2021-03-29</th>\n",
              "      <td>122.580002</td>\n",
              "      <td>120.730003</td>\n",
              "      <td>121.650002</td>\n",
              "      <td>121.389999</td>\n",
              "      <td>80819200.0</td>\n",
              "      <td>121.389999</td>\n",
              "    </tr>\n",
              "    <tr>\n",
              "      <th>2021-03-30</th>\n",
              "      <td>120.400002</td>\n",
              "      <td>118.860001</td>\n",
              "      <td>120.110001</td>\n",
              "      <td>119.900002</td>\n",
              "      <td>85671900.0</td>\n",
              "      <td>119.900002</td>\n",
              "    </tr>\n",
              "    <tr>\n",
              "      <th>2021-03-31</th>\n",
              "      <td>123.519997</td>\n",
              "      <td>121.150002</td>\n",
              "      <td>121.650002</td>\n",
              "      <td>122.150002</td>\n",
              "      <td>118323800.0</td>\n",
              "      <td>122.150002</td>\n",
              "    </tr>\n",
              "    <tr>\n",
              "      <th>2021-04-01</th>\n",
              "      <td>124.180000</td>\n",
              "      <td>122.489998</td>\n",
              "      <td>123.660004</td>\n",
              "      <td>123.000000</td>\n",
              "      <td>75089100.0</td>\n",
              "      <td>123.000000</td>\n",
              "    </tr>\n",
              "  </tbody>\n",
              "</table>\n",
              "<p>2265 rows × 6 columns</p>\n",
              "</div>"
            ],
            "text/plain": [
              "                  High         Low  ...       Volume   Adj Close\n",
              "Date                                ...                         \n",
              "2012-04-02   22.098928   21.442142  ...  598351600.0   19.030903\n",
              "2012-04-03   22.578930   22.232500  ...  834559600.0   19.359755\n",
              "2012-04-04   22.352142   22.035713  ...  572980800.0   19.205635\n",
              "2012-04-05   22.666430   22.264286  ...  641298000.0   19.493883\n",
              "2012-04-09   22.851429   22.332144  ...  597536800.0   19.572329\n",
              "...                ...         ...  ...          ...         ...\n",
              "2021-03-26  121.480003  118.919998  ...   94071200.0  121.209999\n",
              "2021-03-29  122.580002  120.730003  ...   80819200.0  121.389999\n",
              "2021-03-30  120.400002  118.860001  ...   85671900.0  119.900002\n",
              "2021-03-31  123.519997  121.150002  ...  118323800.0  122.150002\n",
              "2021-04-01  124.180000  122.489998  ...   75089100.0  123.000000\n",
              "\n",
              "[2265 rows x 6 columns]"
            ]
          },
          "metadata": {
            "tags": []
          },
          "execution_count": 93
        }
      ]
    },
    {
      "cell_type": "code",
      "metadata": {
        "colab": {
          "base_uri": "https://localhost:8080/"
        },
        "id": "q41uWaFumKXk",
        "outputId": "6ef5a42e-ef0d-4857-cde6-5eada17e7728"
      },
      "source": [
        "df.shape"
      ],
      "execution_count": 94,
      "outputs": [
        {
          "output_type": "execute_result",
          "data": {
            "text/plain": [
              "(2265, 6)"
            ]
          },
          "metadata": {
            "tags": []
          },
          "execution_count": 94
        }
      ]
    },
    {
      "cell_type": "code",
      "metadata": {
        "colab": {
          "base_uri": "https://localhost:8080/",
          "height": 434
        },
        "id": "qu4G4fzUmTdz",
        "outputId": "a8284dba-e72b-4e36-8866-aefd5125d132"
      },
      "source": [
        "plt.figure(figsize=(16,8))\n",
        "plt.title('Close Price History')\n",
        "plt.plot(df['Close'])\n",
        "plt.xlabel('Date', fontsize=18)\n",
        "plt.ylabel('Close Price USD ($)', fontsize=18)\n",
        "plt.show()"
      ],
      "execution_count": 95,
      "outputs": [
        {
          "output_type": "display_data",
          "data": {
            "image/png": "[encoded data removed]",
            "text/plain": [
              "<Figure size 1152x576 with 1 Axes>"
            ]
          },
          "metadata": {
            "tags": []
          }
        }
      ]
    },
    {
      "cell_type": "code",
      "metadata": {
        "colab": {
          "base_uri": "https://localhost:8080/"
        },
        "id": "JyTJO8Y_xLnU",
        "outputId": "bd39883a-23ad-422c-ef35-f3664c146cd3"
      },
      "source": [
        "#Creating a new dataframe with only the 'Close' column\n",
        "data = df.filter(['Close'])\n",
        "\n",
        "#Convert the dataframe to a numpy array\n",
        "dataset = data.values\n",
        "\n",
        "#Get the number of rows to train the model (80% of the dataset)\n",
        "training_data_len = math.ceil(len(dataset) * .8)\n",
        "\n",
        "training_data_len"
      ],
      "execution_count": 96,
      "outputs": [
        {
          "output_type": "execute_result",
          "data": {
            "text/plain": [
              "1812"
            ]
          },
          "metadata": {
            "tags": []
          },
          "execution_count": 96
        }
      ]
    },
    {
      "cell_type": "code",
      "metadata": {
        "colab": {
          "base_uri": "https://localhost:8080/"
        },
        "id": "72JozJ0Vx_TL",
        "outputId": "7d8151a6-7935-4491-abed-4be7747fac65"
      },
      "source": [
        "#Scale the data\n",
        "scaler = MinMaxScaler(feature_range=(0,1))\n",
        "scaled_data = scaler.fit_transform(dataset)\n",
        "\n",
        "scaled_data"
      ],
      "execution_count": 97,
      "outputs": [
        {
          "output_type": "execute_result",
          "data": {
            "text/plain": [
              "array([[0.06304676],\n",
              "       [0.06600146],\n",
              "       [0.0646167 ],\n",
              "       ...,\n",
              "       [0.81998644],\n",
              "       [0.83739962],\n",
              "       [0.84397792]])"
            ]
          },
          "metadata": {
            "tags": []
          },
          "execution_count": 97
        }
      ]
    },
    {
      "cell_type": "code",
      "metadata": {
        "id": "nt8ITMm3zfjZ"
      },
      "source": [
        "#Create the training dataset\n",
        "#Create the scaled training dataset\n",
        "train_data = scaled_data[0:training_data_len, :]\n",
        "\n",
        "#Split the data into x_trian and y_train\n",
        "x_train = []\n",
        "y_train = []\n",
        "\n",
        "for i in range(60, len(train_data)):\n",
        "  x_train.append(train_data[i-60:i, 0])\n",
        "  y_train.append(train_data[i, 0])"
      ],
      "execution_count": 98,
      "outputs": []
    },
    {
      "cell_type": "code",
      "metadata": {
        "id": "3JKul1SG0zwG"
      },
      "source": [
        "#Convert the x_train and y_train to numpy arrays\n",
        "x_train, y_train = np.array(x_train), np.array(y_train)"
      ],
      "execution_count": 99,
      "outputs": []
    },
    {
      "cell_type": "code",
      "metadata": {
        "colab": {
          "base_uri": "https://localhost:8080/"
        },
        "id": "g8Dw1d6N08Q6",
        "outputId": "541aaee4-7dcc-426c-e5bf-4f78db47c9a4"
      },
      "source": [
        "#Reshape the data (2d -> 3d)\n",
        "x_train = np.reshape(x_train, (x_train.shape[0], x_train.shape[1], 1))\n",
        "x_train.shape"
      ],
      "execution_count": 100,
      "outputs": [
        {
          "output_type": "execute_result",
          "data": {
            "text/plain": [
              "(1752, 60, 1)"
            ]
          },
          "metadata": {
            "tags": []
          },
          "execution_count": 100
        }
      ]
    },
    {
      "cell_type": "code",
      "metadata": {
        "id": "gOc_HoFj1aWZ"
      },
      "source": [
        "#Build the LSTM model\n",
        "model = Sequential()\n",
        "model.add(LSTM(50, return_sequences=True, input_shape=(x_train.shape[1], 1)))\n",
        "model.add(LSTM(50, return_sequences=False))\n",
        "model.add(Dense(25))\n",
        "model.add(Dense(1))"
      ],
      "execution_count": 101,
      "outputs": []
    },
    {
      "cell_type": "code",
      "metadata": {
        "id": "k39QkaGC28jK"
      },
      "source": [
        "#Compile the model\n",
        "model.compile(optimizer='adam', loss='mean_squared_error')"
      ],
      "execution_count": 102,
      "outputs": []
    },
    {
      "cell_type": "code",
      "metadata": {
        "colab": {
          "base_uri": "https://localhost:8080/"
        },
        "id": "7DUOdOfE3aZs",
        "outputId": "2f379a65-dab8-48c3-8e7c-483596751541"
      },
      "source": [
        "#Train the model\n",
        "model.fit(x_train, y_train, batch_size=1, epochs=1)"
      ],
      "execution_count": 103,
      "outputs": [
        {
          "output_type": "stream",
          "text": [
            "1752/1752 [==============================] - 47s 25ms/step - loss: 6.6811e-04\n"
          ],
          "name": "stdout"
        },
        {
          "output_type": "execute_result",
          "data": {
            "text/plain": [
              "<tensorflow.python.keras.callbacks.History at 0x7f7de9024f50>"
            ]
          },
          "metadata": {
            "tags": []
          },
          "execution_count": 103
        }
      ]
    },
    {
      "cell_type": "code",
      "metadata": {
        "id": "pKWBLI5_4Zoz"
      },
      "source": [
        "#Create the testing dataset\n",
        "#Create a new array containing scaled values that was not trained\n",
        "test_data = scaled_data[training_data_len - 60: , :]\n",
        "\n",
        "#Create the data sets x_test and y_test\n",
        "x_test = []\n",
        "y_test = dataset[training_data_len:, :]\n",
        "for i in range(60, len(test_data)):\n",
        "  x_test.append(test_data[i-60:i, 0])"
      ],
      "execution_count": 104,
      "outputs": []
    },
    {
      "cell_type": "code",
      "metadata": {
        "id": "l7luatV96HFC"
      },
      "source": [
        "#Convert the data to a numpy array\n",
        "x_test = np.array(x_test)"
      ],
      "execution_count": 105,
      "outputs": []
    },
    {
      "cell_type": "code",
      "metadata": {
        "id": "8bMcA3ff6Qd9"
      },
      "source": [
        "#Reshape the data (2d -> 3d)\n",
        "x_test = np.reshape(x_test, (x_test.shape[0], x_test.shape[1], 1))"
      ],
      "execution_count": 106,
      "outputs": []
    },
    {
      "cell_type": "code",
      "metadata": {
        "id": "LjCSnFYf6p5B"
      },
      "source": [
        "#Get the model's predicted price values\n",
        "predictions = model.predict(x_test)\n",
        "predictions = scaler.inverse_transform(predictions)"
      ],
      "execution_count": 107,
      "outputs": []
    },
    {
      "cell_type": "code",
      "metadata": {
        "colab": {
          "base_uri": "https://localhost:8080/"
        },
        "id": "Hd4rtcaM9AcP",
        "outputId": "d45686e6-a140-46f0-d1cd-5c946440326f"
      },
      "source": [
        "#Get the root mean squared error\n",
        "rmse = np.sqrt(np.mean(predictions - y_test)**2)\n",
        "rmse"
      ],
      "execution_count": 108,
      "outputs": [
        {
          "output_type": "execute_result",
          "data": {
            "text/plain": [
              "1.1695204644276869"
            ]
          },
          "metadata": {
            "tags": []
          },
          "execution_count": 108
        }
      ]
    },
    {
      "cell_type": "code",
      "metadata": {
        "colab": {
          "base_uri": "https://localhost:8080/",
          "height": 573
        },
        "id": "p3FSV9dk9Zi_",
        "outputId": "9713bb71-4e31-4146-b76a-3f6296546e77"
      },
      "source": [
        "#Plot the data\n",
        "train = data[:training_data_len]\n",
        "valid = data[training_data_len:]\n",
        "valid['Predictions'] = predictions\n",
        "\n",
        "#Visualize the data\n",
        "plt.figure(figsize=(16,8))\n",
        "plt.title('Model')\n",
        "plt.xlabel('Date', fontsize=18)\n",
        "plt.ylabel('Close Price USD ($)', fontsize=18)\n",
        "plt.plot(train['Close'])\n",
        "plt.plot(valid[['Close', 'Predictions']])\n",
        "plt.legend(['Train', 'Val', 'Predictions'], loc='lower right')\n",
        "plt.show"
      ],
      "execution_count": 109,
      "outputs": [
        {
          "output_type": "stream",
          "text": [
            "/usr/local/lib/python3.7/dist-packages/ipykernel_launcher.py:4: SettingWithCopyWarning: \n",
            "A value is trying to be set on a copy of a slice from a DataFrame.\n",
            "Try using .loc[row_indexer,col_indexer] = value instead\n",
            "\n",
            "See the caveats in the documentation: https://pandas.pydata.org/pandas-docs/stable/user_guide/indexing.html#returning-a-view-versus-a-copy\n",
            "  after removing the cwd from sys.path.\n"
          ],
          "name": "stderr"
        },
        {
          "output_type": "execute_result",
          "data": {
            "text/plain": [
              "<function matplotlib.pyplot.show>"
            ]
          },
          "metadata": {
            "tags": []
          },
          "execution_count": 109
        },
        {
          "output_type": "display_data",
          "data": {
            "image/png": "[encoded data removed]",
            "text/plain": [
              "<Figure size 1152x576 with 1 Axes>"
            ]
          },
          "metadata": {
            "tags": []
          }
        }
      ]
    },
    {
      "cell_type": "code",
      "metadata": {
        "colab": {
          "base_uri": "https://localhost:8080/",
          "height": 450
        },
        "id": "DECaVNEta--b",
        "outputId": "ac7ced67-ae2e-45c1-c26e-b6bda2bf5d42"
      },
      "source": [
        "#Show the valid and predicted prices\n",
        "valid"
      ],
      "execution_count": 110,
      "outputs": [
        {
          "output_type": "execute_result",
          "data": {
            "text/html": [
              "<div>\n",
              "<style scoped>\n",
              "    .dataframe tbody tr th:only-of-type {\n",
              "        vertical-align: middle;\n",
              "    }\n",
              "\n",
              "    .dataframe tbody tr th {\n",
              "        vertical-align: top;\n",
              "    }\n",
              "\n",
              "    .dataframe thead th {\n",
              "        text-align: right;\n",
              "    }\n",
              "</style>\n",
              "<table border=\"1\" class=\"dataframe\">\n",
              "  <thead>\n",
              "    <tr style=\"text-align: right;\">\n",
              "      <th></th>\n",
              "      <th>Close</th>\n",
              "      <th>Predictions</th>\n",
              "    </tr>\n",
              "    <tr>\n",
              "      <th>Date</th>\n",
              "      <th></th>\n",
              "      <th></th>\n",
              "    </tr>\n",
              "  </thead>\n",
              "  <tbody>\n",
              "    <tr>\n",
              "      <th>2019-06-17</th>\n",
              "      <td>48.472500</td>\n",
              "      <td>48.964272</td>\n",
              "    </tr>\n",
              "    <tr>\n",
              "      <th>2019-06-18</th>\n",
              "      <td>49.612499</td>\n",
              "      <td>49.220032</td>\n",
              "    </tr>\n",
              "    <tr>\n",
              "      <th>2019-06-19</th>\n",
              "      <td>49.467499</td>\n",
              "      <td>49.536720</td>\n",
              "    </tr>\n",
              "    <tr>\n",
              "      <th>2019-06-20</th>\n",
              "      <td>49.865002</td>\n",
              "      <td>49.830162</td>\n",
              "    </tr>\n",
              "    <tr>\n",
              "      <th>2019-06-21</th>\n",
              "      <td>49.695000</td>\n",
              "      <td>50.125465</td>\n",
              "    </tr>\n",
              "    <tr>\n",
              "      <th>...</th>\n",
              "      <td>...</td>\n",
              "      <td>...</td>\n",
              "    </tr>\n",
              "    <tr>\n",
              "      <th>2021-03-26</th>\n",
              "      <td>121.209999</td>\n",
              "      <td>118.636391</td>\n",
              "    </tr>\n",
              "    <tr>\n",
              "      <th>2021-03-29</th>\n",
              "      <td>121.389999</td>\n",
              "      <td>118.440643</td>\n",
              "    </tr>\n",
              "    <tr>\n",
              "      <th>2021-03-30</th>\n",
              "      <td>119.900002</td>\n",
              "      <td>118.330132</td>\n",
              "    </tr>\n",
              "    <tr>\n",
              "      <th>2021-03-31</th>\n",
              "      <td>122.150002</td>\n",
              "      <td>118.093437</td>\n",
              "    </tr>\n",
              "    <tr>\n",
              "      <th>2021-04-01</th>\n",
              "      <td>123.000000</td>\n",
              "      <td>118.115753</td>\n",
              "    </tr>\n",
              "  </tbody>\n",
              "</table>\n",
              "<p>453 rows × 2 columns</p>\n",
              "</div>"
            ],
            "text/plain": [
              "                 Close  Predictions\n",
              "Date                               \n",
              "2019-06-17   48.472500    48.964272\n",
              "2019-06-18   49.612499    49.220032\n",
              "2019-06-19   49.467499    49.536720\n",
              "2019-06-20   49.865002    49.830162\n",
              "2019-06-21   49.695000    50.125465\n",
              "...                ...          ...\n",
              "2021-03-26  121.209999   118.636391\n",
              "2021-03-29  121.389999   118.440643\n",
              "2021-03-30  119.900002   118.330132\n",
              "2021-03-31  122.150002   118.093437\n",
              "2021-04-01  123.000000   118.115753\n",
              "\n",
              "[453 rows x 2 columns]"
            ]
          },
          "metadata": {
            "tags": []
          },
          "execution_count": 110
        }
      ]
    },
    {
      "cell_type": "code",
      "metadata": {
        "colab": {
          "base_uri": "https://localhost:8080/"
        },
        "id": "2mAyGuPlbDI-",
        "outputId": "8da4b59f-4c34-45ad-c0b4-e851fc459ffa"
      },
      "source": [
        "#Get the quote\n",
        "apple_quote = web.DataReader('AAPL', data_source='yahoo', start='2012-04-01', end='2021-04-01')\n",
        "\n",
        "#Create a new dataframe\n",
        "new_df = apple_quote.filter(['Close'])\n",
        "\n",
        "#Get the last 60 day closing price and convert the dataframe to an array\n",
        "last_60_days = new_df[-60:].values\n",
        "\n",
        "#Scale the data to be values between 0 and 1\n",
        "last_60_days_scaled = scaler.transform(last_60_days)\n",
        "\n",
        "#Create an empty list\n",
        "X_test = []\n",
        "\n",
        "#Append\n",
        "X_test.append(last_60_days_scaled)\n",
        "\n",
        "#Convert the X_test dataset to a numpy array\n",
        "X_test = np.array(X_test)\n",
        "\n",
        "#Reshape the data\n",
        "X_test = np.reshape(X_test, (X_test.shape[0], X_test.shape[1], 1))\n",
        "\n",
        "#Get the predicted scale price\n",
        "pred_price = model.predict(X_test)\n",
        "\n",
        "#Undo the Scaling\n",
        "pred_price = scaler.inverse_transform(pred_price)\n",
        "print(pred_price)"
      ],
      "execution_count": 111,
      "outputs": [
        {
          "output_type": "stream",
          "text": [
            "[[118.33478]]\n"
          ],
          "name": "stdout"
        }
      ]
    },
    {
      "cell_type": "code",
      "metadata": {
        "colab": {
          "base_uri": "https://localhost:8080/"
        },
        "id": "uHqfDQWKlc12",
        "outputId": "8c960abd-a0a9-4c99-a2b5-8ad16d8a9681"
      },
      "source": [
        "#Get the quote\n",
        "apple_quote2 = web.DataReader('AAPL', data_source='yahoo', start='2021-04-01', end='2021-04-01')\n",
        "print(apple_quote2['Close'])"
      ],
      "execution_count": 112,
      "outputs": [
        {
          "output_type": "stream",
          "text": [
            "Date\n",
            "2021-04-01    123\n",
            "Name: Close, dtype: int64\n"
          ],
          "name": "stdout"
        }
      ]
    }
  ]
}